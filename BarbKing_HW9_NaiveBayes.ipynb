{
 "cells": [
  {
   "cell_type": "markdown",
   "metadata": {},
   "source": [
    "## Homework Assignment for Graduate Course in Healthcare Analytics\n",
    "- Using DE-SynPUF files downloaded from https://www.cms.gov/Research-Statistics-Data-and-Systems/Downloadable-Public-Use-Files/SynPUFs/DE_Syn_PUF.html\n",
    "- Assignment: use Naive Bayes method to predict depression as response/target"
   ]
  },
  {
   "cell_type": "code",
   "execution_count": 1,
   "metadata": {},
   "outputs": [],
   "source": [
    "# import and read file, use NaN for elements with no values\n",
    "from pandas import DataFrame, read_csv\n",
    "import matplotlib.pyplot as plt\n",
    "import pandas as pd \n",
    "\n",
    "df = pd.read_csv(\"combined_ben_sum_AddYear.csv\", na_values = ['no info', '.'])\n",
    "#print(df.head(5))"
   ]
  },
  {
   "cell_type": "code",
   "execution_count": 2,
   "metadata": {},
   "outputs": [
    {
     "name": "stdout",
     "output_type": "stream",
     "text": [
      "Index(['Year', 'DESYNPUF_ID', 'BENE_BIRTH_DT', 'BENE_DEATH_DT',\n",
      "       'BENE_SEX_IDENT_CD', 'BENE_RACE_CD', 'BENE_ESRD_IND', 'SP_STATE_CODE',\n",
      "       'BENE_COUNTY_CD', 'BENE_HI_CVRAGE_TOT_MONS', 'BENE_SMI_CVRAGE_TOT_MONS',\n",
      "       'BENE_HMO_CVRAGE_TOT_MONS', 'PLAN_CVRG_MOS_NUM', 'SP_ALZHDMTA',\n",
      "       'SP_CHF', 'SP_CHRNKIDN', 'SP_CNCR', 'SP_COPD', 'SP_DEPRESSN',\n",
      "       'SP_DIABETES', 'SP_ISCHMCHT', 'SP_OSTEOPRS', 'SP_RA_OA', 'SP_STRKETIA',\n",
      "       'MEDREIMB_IP', 'BENRES_IP', 'PPPYMT_IP', 'MEDREIMB_OP', 'BENRES_OP',\n",
      "       'PPPYMT_OP', 'MEDREIMB_CAR', 'BENRES_CAR', 'PPPYMT_CAR'],\n",
      "      dtype='object')\n"
     ]
    }
   ],
   "source": [
    "df.shape\n",
    "print(df.columns)"
   ]
  },
  {
   "cell_type": "code",
   "execution_count": 3,
   "metadata": {},
   "outputs": [],
   "source": [
    "#subset of data needed to answer assignment question #4\n",
    "newdf = df[['DESYNPUF_ID','Year','BENE_BIRTH_DT','BENE_SEX_IDENT_CD','BENE_RACE_CD',\n",
    "            'BENE_ESRD_IND','SP_STATE_CODE','BENE_COUNTY_CD','SP_ALZHDMTA',\n",
    "       'SP_CHF', 'SP_CHRNKIDN', 'SP_CNCR', 'SP_COPD','SP_DEPRESSN',\n",
    "       'SP_DIABETES', 'SP_ISCHMCHT', 'SP_OSTEOPRS', 'SP_RA_OA', 'SP_STRKETIA']]\n",
    "#print(newdf.head(5))"
   ]
  },
  {
   "cell_type": "code",
   "execution_count": 4,
   "metadata": {},
   "outputs": [
    {
     "data": {
      "text/plain": [
       "(6873274, 19)"
      ]
     },
     "execution_count": 4,
     "metadata": {},
     "output_type": "execute_result"
    }
   ],
   "source": [
    "newdf.shape"
   ]
  },
  {
   "cell_type": "markdown",
   "metadata": {},
   "source": [
    "# Data Transformation"
   ]
  },
  {
   "cell_type": "code",
   "execution_count": 56,
   "metadata": {},
   "outputs": [],
   "source": [
    "# checking to see how many duplicate rows, all columns except year\n",
    "# don't want to skew results if have same patient over 2008-2010 with same conditions repeated each year\n",
    "# only want to include if patient has developed new conditions\n",
    "dup_df = newdf[newdf.duplicated(['DESYNPUF_ID','BENE_BIRTH_DT','BENE_SEX_IDENT_CD','BENE_RACE_CD',\n",
    "                'BENE_ESRD_IND','SP_STATE_CODE','BENE_COUNTY_CD','SP_ALZHDMTA',\n",
    "                'SP_CHF', 'SP_CHRNKIDN', 'SP_CNCR', 'SP_COPD','SP_DEPRESSN',\n",
    "                'SP_DIABETES', 'SP_ISCHMCHT', 'SP_OSTEOPRS', 'SP_RA_OA', 'SP_STRKETIA']) == True].sort_values(by='DESYNPUF_ID')"
   ]
  },
  {
   "cell_type": "code",
   "execution_count": 57,
   "metadata": {},
   "outputs": [
    {
     "data": {
      "text/plain": [
       "(1424410, 19)"
      ]
     },
     "execution_count": 57,
     "metadata": {},
     "output_type": "execute_result"
    }
   ],
   "source": [
    "#display(dup_df)\n",
    "dup_df.shape"
   ]
  },
  {
   "cell_type": "code",
   "execution_count": 58,
   "metadata": {},
   "outputs": [],
   "source": [
    "# removing duplicate rows, 1424410 removed\n",
    "df_no_dup_records_1 = newdf.drop_duplicates(['DESYNPUF_ID','BENE_BIRTH_DT','BENE_SEX_IDENT_CD','BENE_RACE_CD',\n",
    "            'BENE_ESRD_IND','SP_STATE_CODE','BENE_COUNTY_CD','SP_ALZHDMTA',\n",
    "       'SP_CHF', 'SP_CHRNKIDN', 'SP_CNCR', 'SP_COPD','SP_DEPRESSN',\n",
    "       'SP_DIABETES', 'SP_ISCHMCHT', 'SP_OSTEOPRS', 'SP_RA_OA', 'SP_STRKETIA'], keep='first')"
   ]
  },
  {
   "cell_type": "code",
   "execution_count": 59,
   "metadata": {},
   "outputs": [
    {
     "data": {
      "text/plain": [
       "(5448864, 19)"
      ]
     },
     "execution_count": 59,
     "metadata": {},
     "output_type": "execute_result"
    }
   ],
   "source": [
    "df_no_dup_records_1.shape"
   ]
  },
  {
   "cell_type": "code",
   "execution_count": 60,
   "metadata": {},
   "outputs": [],
   "source": [
    "# also remove all recorcds after patient's first diagnosis, any future conditions post-depression diagnosis would not be a \n",
    "# predictor or cause of depression\n",
    "df_no_dup_records = df_no_dup_records_1.drop_duplicates(['DESYNPUF_ID','BENE_BIRTH_DT','SP_DEPRESSN'], keep='first')"
   ]
  },
  {
   "cell_type": "code",
   "execution_count": 61,
   "metadata": {},
   "outputs": [
    {
     "data": {
      "text/plain": [
       "(3157153, 19)"
      ]
     },
     "execution_count": 61,
     "metadata": {},
     "output_type": "execute_result"
    }
   ],
   "source": [
    "#  2,291,711‬ rows removed\n",
    "df_no_dup_records.shape"
   ]
  },
  {
   "cell_type": "code",
   "execution_count": 62,
   "metadata": {},
   "outputs": [],
   "source": [
    "#calculate age (year column - year from BENE_BIRTH_DT)\n",
    "#newdf[\"Birth_Year\"] = pd.to_datetime(newdf['BENE_BIRTH_DT']).dt.year\n",
    "df_no_dup_records.loc[:,'Age'] = df_no_dup_records.loc[:,'Year'] - (pd.to_datetime(newdf.loc[:,'BENE_BIRTH_DT'],format='%Y%m%d').dt.year)"
   ]
  },
  {
   "cell_type": "code",
   "execution_count": 63,
   "metadata": {},
   "outputs": [
    {
     "data": {
      "text/html": [
       "<div>\n",
       "<style scoped>\n",
       "    .dataframe tbody tr th:only-of-type {\n",
       "        vertical-align: middle;\n",
       "    }\n",
       "\n",
       "    .dataframe tbody tr th {\n",
       "        vertical-align: top;\n",
       "    }\n",
       "\n",
       "    .dataframe thead th {\n",
       "        text-align: right;\n",
       "    }\n",
       "</style>\n",
       "<table border=\"1\" class=\"dataframe\">\n",
       "  <thead>\n",
       "    <tr style=\"text-align: right;\">\n",
       "      <th></th>\n",
       "      <th>DESYNPUF_ID</th>\n",
       "      <th>Year</th>\n",
       "      <th>BENE_BIRTH_DT</th>\n",
       "      <th>BENE_SEX_IDENT_CD</th>\n",
       "      <th>BENE_RACE_CD</th>\n",
       "      <th>BENE_ESRD_IND</th>\n",
       "      <th>SP_STATE_CODE</th>\n",
       "      <th>BENE_COUNTY_CD</th>\n",
       "      <th>SP_ALZHDMTA</th>\n",
       "      <th>SP_CHF</th>\n",
       "      <th>SP_CHRNKIDN</th>\n",
       "      <th>SP_CNCR</th>\n",
       "      <th>SP_COPD</th>\n",
       "      <th>SP_DEPRESSN</th>\n",
       "      <th>SP_DIABETES</th>\n",
       "      <th>SP_ISCHMCHT</th>\n",
       "      <th>SP_OSTEOPRS</th>\n",
       "      <th>SP_RA_OA</th>\n",
       "      <th>SP_STRKETIA</th>\n",
       "      <th>Age</th>\n",
       "    </tr>\n",
       "  </thead>\n",
       "  <tbody>\n",
       "    <tr>\n",
       "      <th>0</th>\n",
       "      <td>00013D2EFD8E45D1</td>\n",
       "      <td>2008</td>\n",
       "      <td>19230501</td>\n",
       "      <td>1</td>\n",
       "      <td>1</td>\n",
       "      <td>0</td>\n",
       "      <td>26</td>\n",
       "      <td>950</td>\n",
       "      <td>2</td>\n",
       "      <td>2</td>\n",
       "      <td>2</td>\n",
       "      <td>2</td>\n",
       "      <td>2</td>\n",
       "      <td>2</td>\n",
       "      <td>2</td>\n",
       "      <td>2</td>\n",
       "      <td>2</td>\n",
       "      <td>2</td>\n",
       "      <td>2</td>\n",
       "      <td>85.0</td>\n",
       "    </tr>\n",
       "    <tr>\n",
       "      <th>1</th>\n",
       "      <td>00016F745862898F</td>\n",
       "      <td>2008</td>\n",
       "      <td>19430101</td>\n",
       "      <td>1</td>\n",
       "      <td>1</td>\n",
       "      <td>0</td>\n",
       "      <td>39</td>\n",
       "      <td>230</td>\n",
       "      <td>2</td>\n",
       "      <td>2</td>\n",
       "      <td>2</td>\n",
       "      <td>2</td>\n",
       "      <td>2</td>\n",
       "      <td>2</td>\n",
       "      <td>2</td>\n",
       "      <td>2</td>\n",
       "      <td>2</td>\n",
       "      <td>2</td>\n",
       "      <td>2</td>\n",
       "      <td>65.0</td>\n",
       "    </tr>\n",
       "    <tr>\n",
       "      <th>2</th>\n",
       "      <td>0001FDD721E223DC</td>\n",
       "      <td>2008</td>\n",
       "      <td>19360901</td>\n",
       "      <td>2</td>\n",
       "      <td>1</td>\n",
       "      <td>0</td>\n",
       "      <td>39</td>\n",
       "      <td>280</td>\n",
       "      <td>2</td>\n",
       "      <td>2</td>\n",
       "      <td>2</td>\n",
       "      <td>2</td>\n",
       "      <td>2</td>\n",
       "      <td>2</td>\n",
       "      <td>2</td>\n",
       "      <td>2</td>\n",
       "      <td>2</td>\n",
       "      <td>2</td>\n",
       "      <td>2</td>\n",
       "      <td>72.0</td>\n",
       "    </tr>\n",
       "    <tr>\n",
       "      <th>3</th>\n",
       "      <td>00021CA6FF03E670</td>\n",
       "      <td>2008</td>\n",
       "      <td>19410601</td>\n",
       "      <td>1</td>\n",
       "      <td>5</td>\n",
       "      <td>0</td>\n",
       "      <td>6</td>\n",
       "      <td>290</td>\n",
       "      <td>2</td>\n",
       "      <td>2</td>\n",
       "      <td>2</td>\n",
       "      <td>2</td>\n",
       "      <td>2</td>\n",
       "      <td>2</td>\n",
       "      <td>2</td>\n",
       "      <td>2</td>\n",
       "      <td>2</td>\n",
       "      <td>2</td>\n",
       "      <td>2</td>\n",
       "      <td>67.0</td>\n",
       "    </tr>\n",
       "    <tr>\n",
       "      <th>4</th>\n",
       "      <td>00024B3D2352D2D0</td>\n",
       "      <td>2008</td>\n",
       "      <td>19360801</td>\n",
       "      <td>1</td>\n",
       "      <td>1</td>\n",
       "      <td>0</td>\n",
       "      <td>52</td>\n",
       "      <td>590</td>\n",
       "      <td>2</td>\n",
       "      <td>2</td>\n",
       "      <td>2</td>\n",
       "      <td>2</td>\n",
       "      <td>2</td>\n",
       "      <td>2</td>\n",
       "      <td>2</td>\n",
       "      <td>2</td>\n",
       "      <td>1</td>\n",
       "      <td>2</td>\n",
       "      <td>2</td>\n",
       "      <td>72.0</td>\n",
       "    </tr>\n",
       "  </tbody>\n",
       "</table>\n",
       "</div>"
      ],
      "text/plain": [
       "        DESYNPUF_ID  Year  BENE_BIRTH_DT  BENE_SEX_IDENT_CD  BENE_RACE_CD  \\\n",
       "0  00013D2EFD8E45D1  2008       19230501                  1             1   \n",
       "1  00016F745862898F  2008       19430101                  1             1   \n",
       "2  0001FDD721E223DC  2008       19360901                  2             1   \n",
       "3  00021CA6FF03E670  2008       19410601                  1             5   \n",
       "4  00024B3D2352D2D0  2008       19360801                  1             1   \n",
       "\n",
       "  BENE_ESRD_IND  SP_STATE_CODE  BENE_COUNTY_CD  SP_ALZHDMTA  SP_CHF  \\\n",
       "0             0             26             950            2       2   \n",
       "1             0             39             230            2       2   \n",
       "2             0             39             280            2       2   \n",
       "3             0              6             290            2       2   \n",
       "4             0             52             590            2       2   \n",
       "\n",
       "   SP_CHRNKIDN  SP_CNCR  SP_COPD  SP_DEPRESSN  SP_DIABETES  SP_ISCHMCHT  \\\n",
       "0            2        2        2            2            2            2   \n",
       "1            2        2        2            2            2            2   \n",
       "2            2        2        2            2            2            2   \n",
       "3            2        2        2            2            2            2   \n",
       "4            2        2        2            2            2            2   \n",
       "\n",
       "   SP_OSTEOPRS  SP_RA_OA  SP_STRKETIA   Age  \n",
       "0            2         2            2  85.0  \n",
       "1            2         2            2  65.0  \n",
       "2            2         2            2  72.0  \n",
       "3            2         2            2  67.0  \n",
       "4            1         2            2  72.0  "
      ]
     },
     "metadata": {},
     "output_type": "display_data"
    }
   ],
   "source": [
    "#display and check age calculation working as expected\n",
    "display(df_no_dup_records.head(5))"
   ]
  },
  {
   "cell_type": "code",
   "execution_count": 64,
   "metadata": {},
   "outputs": [],
   "source": [
    "# checking for any patients with multiple recods in one year (should only have one patient summary per year)\n",
    "df_dup_record_year = df_no_dup_records[df_no_dup_records.duplicated(['DESYNPUF_ID','Year']) == True].sort_values(by='DESYNPUF_ID')"
   ]
  },
  {
   "cell_type": "code",
   "execution_count": 65,
   "metadata": {},
   "outputs": [
    {
     "data": {
      "text/plain": [
       "(0, 20)"
      ]
     },
     "execution_count": 65,
     "metadata": {},
     "output_type": "execute_result"
    }
   ],
   "source": [
    "df_dup_record_year.shape\n",
    "# returned 0 rows so we don't have any rows with duplicate patient ID and year"
   ]
  },
  {
   "cell_type": "code",
   "execution_count": 66,
   "metadata": {},
   "outputs": [
    {
     "name": "stdout",
     "output_type": "stream",
     "text": [
      "Index(['DESYNPUF_ID', 'Year', 'BENE_BIRTH_DT', 'BENE_SEX_IDENT_CD',\n",
      "       'BENE_RACE_CD', 'BENE_ESRD_IND', 'SP_STATE_CODE', 'BENE_COUNTY_CD',\n",
      "       'SP_ALZHDMTA', 'SP_CHF', 'SP_CHRNKIDN', 'SP_CNCR', 'SP_COPD',\n",
      "       'SP_DEPRESSN', 'SP_DIABETES', 'SP_ISCHMCHT', 'SP_OSTEOPRS', 'SP_RA_OA',\n",
      "       'SP_STRKETIA', 'Age'],\n",
      "      dtype='object')\n"
     ]
    }
   ],
   "source": [
    "print(df_no_dup_records.columns)"
   ]
  },
  {
   "cell_type": "code",
   "execution_count": 67,
   "metadata": {},
   "outputs": [],
   "source": [
    "# for each of the chronic condition col, prev data was 2 = no and 1 = yes\n",
    "# replace 2 with 0 so have 0 = no and 1 = yes\n",
    "for column in range(8,19):\n",
    "    df_no_dup_records.iloc[:,column] = df_no_dup_records.iloc[:,column].replace(2,0)\n",
    "    \n",
    "# for BENE_ESRD_IND replace 'Y' with 1, 'N' is already set to 0\n",
    "df_no_dup_records.loc[:,'BENE_ESRD_IND'] = df_no_dup_records.loc[:,'BENE_ESRD_IND'].replace('Y',1).astype('int')\n",
    "\n",
    "# enocde race column\n",
    "df_no_dup_records.loc[:,'BENE_RACE_CD'] = df_no_dup_records.loc[:,'BENE_RACE_CD'].replace({1:'White',2:'Black',3:'Other', 5:'Hispanic'}).apply(str)\n",
    "#Binary Encoding Catergorical Variables without Order\n",
    "import category_encoders as ce\n",
    "encoder = ce.BinaryEncoder(cols=['BENE_RACE_CD'])\n",
    "df_no_dup_records = encoder.fit_transform(df_no_dup_records)\n",
    "\n",
    "# set sex to male = 0 and female = 1\n",
    "df_no_dup_records.loc[:,'BENE_SEX_IDENT_CD'] = df_no_dup_records.loc[:,'BENE_SEX_IDENT_CD'].replace({1:0,2:1})"
   ]
  },
  {
   "cell_type": "code",
   "execution_count": 68,
   "metadata": {},
   "outputs": [
    {
     "data": {
      "text/html": [
       "<div>\n",
       "<style scoped>\n",
       "    .dataframe tbody tr th:only-of-type {\n",
       "        vertical-align: middle;\n",
       "    }\n",
       "\n",
       "    .dataframe tbody tr th {\n",
       "        vertical-align: top;\n",
       "    }\n",
       "\n",
       "    .dataframe thead th {\n",
       "        text-align: right;\n",
       "    }\n",
       "</style>\n",
       "<table border=\"1\" class=\"dataframe\">\n",
       "  <thead>\n",
       "    <tr style=\"text-align: right;\">\n",
       "      <th></th>\n",
       "      <th>DESYNPUF_ID</th>\n",
       "      <th>Year</th>\n",
       "      <th>BENE_BIRTH_DT</th>\n",
       "      <th>BENE_SEX_IDENT_CD</th>\n",
       "      <th>BENE_RACE_CD_0</th>\n",
       "      <th>BENE_RACE_CD_1</th>\n",
       "      <th>BENE_RACE_CD_2</th>\n",
       "      <th>BENE_ESRD_IND</th>\n",
       "      <th>SP_STATE_CODE</th>\n",
       "      <th>BENE_COUNTY_CD</th>\n",
       "      <th>...</th>\n",
       "      <th>SP_CHRNKIDN</th>\n",
       "      <th>SP_CNCR</th>\n",
       "      <th>SP_COPD</th>\n",
       "      <th>SP_DEPRESSN</th>\n",
       "      <th>SP_DIABETES</th>\n",
       "      <th>SP_ISCHMCHT</th>\n",
       "      <th>SP_OSTEOPRS</th>\n",
       "      <th>SP_RA_OA</th>\n",
       "      <th>SP_STRKETIA</th>\n",
       "      <th>Age</th>\n",
       "    </tr>\n",
       "  </thead>\n",
       "  <tbody>\n",
       "    <tr>\n",
       "      <th>0</th>\n",
       "      <td>00013D2EFD8E45D1</td>\n",
       "      <td>2008</td>\n",
       "      <td>19230501</td>\n",
       "      <td>0</td>\n",
       "      <td>0</td>\n",
       "      <td>0</td>\n",
       "      <td>1</td>\n",
       "      <td>0</td>\n",
       "      <td>26</td>\n",
       "      <td>950</td>\n",
       "      <td>...</td>\n",
       "      <td>0</td>\n",
       "      <td>0</td>\n",
       "      <td>0</td>\n",
       "      <td>0</td>\n",
       "      <td>0</td>\n",
       "      <td>0</td>\n",
       "      <td>0</td>\n",
       "      <td>0</td>\n",
       "      <td>0</td>\n",
       "      <td>85.0</td>\n",
       "    </tr>\n",
       "    <tr>\n",
       "      <th>1</th>\n",
       "      <td>00016F745862898F</td>\n",
       "      <td>2008</td>\n",
       "      <td>19430101</td>\n",
       "      <td>0</td>\n",
       "      <td>0</td>\n",
       "      <td>0</td>\n",
       "      <td>1</td>\n",
       "      <td>0</td>\n",
       "      <td>39</td>\n",
       "      <td>230</td>\n",
       "      <td>...</td>\n",
       "      <td>0</td>\n",
       "      <td>0</td>\n",
       "      <td>0</td>\n",
       "      <td>0</td>\n",
       "      <td>0</td>\n",
       "      <td>0</td>\n",
       "      <td>0</td>\n",
       "      <td>0</td>\n",
       "      <td>0</td>\n",
       "      <td>65.0</td>\n",
       "    </tr>\n",
       "    <tr>\n",
       "      <th>2</th>\n",
       "      <td>0001FDD721E223DC</td>\n",
       "      <td>2008</td>\n",
       "      <td>19360901</td>\n",
       "      <td>1</td>\n",
       "      <td>0</td>\n",
       "      <td>0</td>\n",
       "      <td>1</td>\n",
       "      <td>0</td>\n",
       "      <td>39</td>\n",
       "      <td>280</td>\n",
       "      <td>...</td>\n",
       "      <td>0</td>\n",
       "      <td>0</td>\n",
       "      <td>0</td>\n",
       "      <td>0</td>\n",
       "      <td>0</td>\n",
       "      <td>0</td>\n",
       "      <td>0</td>\n",
       "      <td>0</td>\n",
       "      <td>0</td>\n",
       "      <td>72.0</td>\n",
       "    </tr>\n",
       "    <tr>\n",
       "      <th>3</th>\n",
       "      <td>00021CA6FF03E670</td>\n",
       "      <td>2008</td>\n",
       "      <td>19410601</td>\n",
       "      <td>0</td>\n",
       "      <td>0</td>\n",
       "      <td>1</td>\n",
       "      <td>0</td>\n",
       "      <td>0</td>\n",
       "      <td>6</td>\n",
       "      <td>290</td>\n",
       "      <td>...</td>\n",
       "      <td>0</td>\n",
       "      <td>0</td>\n",
       "      <td>0</td>\n",
       "      <td>0</td>\n",
       "      <td>0</td>\n",
       "      <td>0</td>\n",
       "      <td>0</td>\n",
       "      <td>0</td>\n",
       "      <td>0</td>\n",
       "      <td>67.0</td>\n",
       "    </tr>\n",
       "    <tr>\n",
       "      <th>4</th>\n",
       "      <td>00024B3D2352D2D0</td>\n",
       "      <td>2008</td>\n",
       "      <td>19360801</td>\n",
       "      <td>0</td>\n",
       "      <td>0</td>\n",
       "      <td>0</td>\n",
       "      <td>1</td>\n",
       "      <td>0</td>\n",
       "      <td>52</td>\n",
       "      <td>590</td>\n",
       "      <td>...</td>\n",
       "      <td>0</td>\n",
       "      <td>0</td>\n",
       "      <td>0</td>\n",
       "      <td>0</td>\n",
       "      <td>0</td>\n",
       "      <td>0</td>\n",
       "      <td>1</td>\n",
       "      <td>0</td>\n",
       "      <td>0</td>\n",
       "      <td>72.0</td>\n",
       "    </tr>\n",
       "  </tbody>\n",
       "</table>\n",
       "<p>5 rows × 22 columns</p>\n",
       "</div>"
      ],
      "text/plain": [
       "        DESYNPUF_ID  Year  BENE_BIRTH_DT  BENE_SEX_IDENT_CD  BENE_RACE_CD_0  \\\n",
       "0  00013D2EFD8E45D1  2008       19230501                  0               0   \n",
       "1  00016F745862898F  2008       19430101                  0               0   \n",
       "2  0001FDD721E223DC  2008       19360901                  1               0   \n",
       "3  00021CA6FF03E670  2008       19410601                  0               0   \n",
       "4  00024B3D2352D2D0  2008       19360801                  0               0   \n",
       "\n",
       "   BENE_RACE_CD_1  BENE_RACE_CD_2  BENE_ESRD_IND  SP_STATE_CODE  \\\n",
       "0               0               1              0             26   \n",
       "1               0               1              0             39   \n",
       "2               0               1              0             39   \n",
       "3               1               0              0              6   \n",
       "4               0               1              0             52   \n",
       "\n",
       "   BENE_COUNTY_CD  ...   SP_CHRNKIDN  SP_CNCR  SP_COPD  SP_DEPRESSN  \\\n",
       "0             950  ...             0        0        0            0   \n",
       "1             230  ...             0        0        0            0   \n",
       "2             280  ...             0        0        0            0   \n",
       "3             290  ...             0        0        0            0   \n",
       "4             590  ...             0        0        0            0   \n",
       "\n",
       "   SP_DIABETES  SP_ISCHMCHT  SP_OSTEOPRS  SP_RA_OA  SP_STRKETIA   Age  \n",
       "0            0            0            0         0            0  85.0  \n",
       "1            0            0            0         0            0  65.0  \n",
       "2            0            0            0         0            0  72.0  \n",
       "3            0            0            0         0            0  67.0  \n",
       "4            0            0            1         0            0  72.0  \n",
       "\n",
       "[5 rows x 22 columns]"
      ]
     },
     "metadata": {},
     "output_type": "display_data"
    }
   ],
   "source": [
    "# verifying values look good\n",
    "display(df_no_dup_records.head(5))"
   ]
  },
  {
   "cell_type": "markdown",
   "metadata": {},
   "source": [
    "## Naive Bayes Model with Balanced Classes"
   ]
  },
  {
   "cell_type": "code",
   "execution_count": 69,
   "metadata": {},
   "outputs": [],
   "source": [
    "# Class count\n",
    "count_class_0, count_class_1 = df_no_dup_records.SP_DEPRESSN.value_counts()\n",
    "\n",
    "# Divide by class\n",
    "df_class_0 = df_no_dup_records[df_no_dup_records['SP_DEPRESSN'] == 0]\n",
    "df_class_1 = df_no_dup_records[df_no_dup_records['SP_DEPRESSN'] == 1]"
   ]
  },
  {
   "cell_type": "code",
   "execution_count": 70,
   "metadata": {},
   "outputs": [
    {
     "name": "stdout",
     "output_type": "stream",
     "text": [
      "Random under-sampling:\n",
      "1    954304\n",
      "0    954304\n",
      "Name: SP_DEPRESSN, dtype: int64\n"
     ]
    },
    {
     "data": {
      "image/png": "[encoded data removed]",
      "text/plain": [
       "<Figure size 432x288 with 1 Axes>"
      ]
     },
     "metadata": {
      "needs_background": "light"
     },
     "output_type": "display_data"
    }
   ],
   "source": [
    "df_class_0_under = df_class_0.sample(count_class_1)\n",
    "df_test_under = pd.concat([df_class_0_under, df_class_1], axis=0)\n",
    "\n",
    "print('Random under-sampling:')\n",
    "print(df_test_under.SP_DEPRESSN.value_counts())\n",
    "\n",
    "df_test_under.SP_DEPRESSN.value_counts().plot(kind='bar', title='Count (SP_DEPRESSN)');"
   ]
  },
  {
   "cell_type": "code",
   "execution_count": 71,
   "metadata": {},
   "outputs": [
    {
     "name": "stdout",
     "output_type": "stream",
     "text": [
      "Index(['DESYNPUF_ID', 'Year', 'BENE_BIRTH_DT', 'BENE_SEX_IDENT_CD',\n",
      "       'BENE_RACE_CD_0', 'BENE_RACE_CD_1', 'BENE_RACE_CD_2', 'BENE_ESRD_IND',\n",
      "       'SP_STATE_CODE', 'BENE_COUNTY_CD', 'SP_ALZHDMTA', 'SP_CHF',\n",
      "       'SP_CHRNKIDN', 'SP_CNCR', 'SP_COPD', 'SP_DEPRESSN', 'SP_DIABETES',\n",
      "       'SP_ISCHMCHT', 'SP_OSTEOPRS', 'SP_RA_OA', 'SP_STRKETIA', 'Age'],\n",
      "      dtype='object')\n",
      "(1908608, 22)\n",
      "DESYNPUF_ID           object\n",
      "Year                   int64\n",
      "BENE_BIRTH_DT          int64\n",
      "BENE_SEX_IDENT_CD      int64\n",
      "BENE_RACE_CD_0         int64\n",
      "BENE_RACE_CD_1         int64\n",
      "BENE_RACE_CD_2         int64\n",
      "BENE_ESRD_IND          int32\n",
      "SP_STATE_CODE          int64\n",
      "BENE_COUNTY_CD         int64\n",
      "SP_ALZHDMTA            int64\n",
      "SP_CHF                 int64\n",
      "SP_CHRNKIDN            int64\n",
      "SP_CNCR                int64\n",
      "SP_COPD                int64\n",
      "SP_DEPRESSN            int64\n",
      "SP_DIABETES            int64\n",
      "SP_ISCHMCHT            int64\n",
      "SP_OSTEOPRS            int64\n",
      "SP_RA_OA               int64\n",
      "SP_STRKETIA            int64\n",
      "Age                  float64\n",
      "dtype: object\n"
     ]
    }
   ],
   "source": [
    "print(df_test_under.columns)\n",
    "print(df_test_under.shape)\n",
    "print(df_test_under.dtypes)"
   ]
  },
  {
   "cell_type": "code",
   "execution_count": 72,
   "metadata": {},
   "outputs": [],
   "source": [
    "# split data into train/test\n",
    "X_bal = df_test_under.loc[:,['BENE_SEX_IDENT_CD',\n",
    "       'BENE_RACE_CD_0', 'BENE_RACE_CD_1', 'BENE_RACE_CD_2', 'BENE_ESRD_IND','SP_ALZHDMTA', 'SP_CHF',\n",
    "       'SP_CHRNKIDN', 'SP_CNCR', 'SP_COPD', 'SP_DIABETES',\n",
    "       'SP_ISCHMCHT', 'SP_OSTEOPRS', 'SP_RA_OA', 'SP_STRKETIA', 'Age']].values\n",
    "y_bal = df_test_under.loc[:,'SP_DEPRESSN'].values\n",
    "\n",
    "#Splitting the data into Training Set and Test Set\n",
    "from sklearn.model_selection import train_test_split\n",
    "X_train, X_test, y_train, y_test= train_test_split(X_bal,y_bal,test_size=0.3,random_state=0)"
   ]
  },
  {
   "cell_type": "code",
   "execution_count": 73,
   "metadata": {},
   "outputs": [],
   "source": [
    "#Normalizing the features\n",
    "from sklearn.preprocessing import StandardScaler\n",
    "#instantiate the standard scalar (make a StandardScaler object)\n",
    "sc_X= StandardScaler()\n",
    "# pass to object X_train, compute mean and std for each value in data set\n",
    "# fit yourself to this, transform and save to X_train, fit computes mean/std\n",
    "X_train = sc_X.fit_transform(X_train)\n",
    "#don't fit on test set, only have one sample at a time, don't have all instances that it\n",
    "#will see over lifetime of model\n",
    "X_test = sc_X.transform(X_test)\n",
    "#print(X_test)"
   ]
  },
  {
   "cell_type": "code",
   "execution_count": 80,
   "metadata": {},
   "outputs": [
    {
     "name": "stdout",
     "output_type": "stream",
     "text": [
      "Acc: 0.6537\n",
      "Std: 0.0015\n"
     ]
    }
   ],
   "source": [
    "#Fitting Classifier to Training Set.\n",
    "#Gaussian is parameter-less\n",
    "from sklearn.naive_bayes import GaussianNB\n",
    "classifierObj = GaussianNB()\n",
    "classifierObj.fit(X_train, y_train)\n",
    "#K-Fold Cross Validation\n",
    "from sklearn.model_selection import cross_val_score\n",
    "modelAccuracies = cross_val_score(estimator=classifierObj, X=X_train, y=y_train, cv=10)\n",
    "print('Acc: {0:0.4f}'.format(modelAccuracies.mean()))\n",
    "print('Std: {0:0.4f}'.format(modelAccuracies.std()))"
   ]
  },
  {
   "cell_type": "code",
   "execution_count": 75,
   "metadata": {},
   "outputs": [
    {
     "name": "stdout",
     "output_type": "stream",
     "text": [
      "Confusion matrix:\n",
      " [[209351  76901]\n",
      " [121883 164448]]\n"
     ]
    },
    {
     "data": {
      "image/png": "[encoded data removed]",
      "text/plain": [
       "<Figure size 432x288 with 2 Axes>"
      ]
     },
     "metadata": {
      "needs_background": "light"
     },
     "output_type": "display_data"
    }
   ],
   "source": [
    "#Making predictions on the Test Set\n",
    "y_pred = classifierObj.predict(X_test)\n",
    "\n",
    "#Evaluating the predictions using a Confusion Matrix\n",
    "from sklearn.metrics import confusion_matrix\n",
    "from matplotlib import pyplot as plt\n",
    "\n",
    "conf_mat = confusion_matrix(y_true=y_test, y_pred=y_pred)\n",
    "print('Confusion matrix:\\n', conf_mat)\n",
    "\n",
    "labels = ['Class 0', 'Class 1']\n",
    "fig = plt.figure()\n",
    "ax = fig.add_subplot(111)\n",
    "cax = ax.matshow(conf_mat, cmap=plt.cm.Blues)\n",
    "fig.colorbar(cax)\n",
    "ax.set_xticklabels([''] + labels)\n",
    "ax.set_yticklabels([''] + labels)\n",
    "plt.xlabel('Predicted')\n",
    "plt.ylabel('Expected')\n",
    "plt.show()"
   ]
  },
  {
   "cell_type": "code",
   "execution_count": 76,
   "metadata": {},
   "outputs": [
    {
     "name": "stdout",
     "output_type": "stream",
     "text": [
      "recall: 0.57\n",
      "precision: 0.68\n"
     ]
    }
   ],
   "source": [
    "from sklearn.metrics import recall_score, precision_score\n",
    "recall = recall_score(y_test, y_pred)\n",
    "precision = precision_score(y_test, y_pred)\n",
    "print('recall: {0:0.2f}'.format(recall))\n",
    "print('precision: {0:0.2f}'.format(precision))"
   ]
  },
  {
   "cell_type": "code",
   "execution_count": 77,
   "metadata": {},
   "outputs": [
    {
     "name": "stdout",
     "output_type": "stream",
     "text": [
      "GaussianNB: f1=0.623 auc=0.687\n"
     ]
    },
    {
     "data": {
      "image/png": "[encoded data removed]",
      "text/plain": [
       "<Figure size 432x288 with 1 Axes>"
      ]
     },
     "metadata": {
      "needs_background": "light"
     },
     "output_type": "display_data"
    }
   ],
   "source": [
    "from sklearn.metrics import precision_recall_curve\n",
    "from sklearn.metrics import f1_score\n",
    "from sklearn.metrics import auc\n",
    "from matplotlib import pyplot\n",
    "# predict probabilities\n",
    "lr_probs = classifierObj.predict_proba(X_test)\n",
    "# keep probabilities for the positive outcome only\n",
    "lr_probs = lr_probs[:, 1]\n",
    "# predict class values\n",
    "yhat = classifierObj.predict(X_test)\n",
    "lr_precision, lr_recall, _ = precision_recall_curve(y_test, lr_probs)\n",
    "lr_f1, lr_auc = f1_score(y_test, yhat), auc(lr_recall, lr_precision)\n",
    "# summarize scores\n",
    "print('GaussianNB: f1=%.3f auc=%.3f' % (lr_f1, lr_auc))\n",
    "# plot the precision-recall curves\n",
    "no_skill = len(y_test[y_test==1]) / len(y_test)\n",
    "pyplot.plot([0, 1], [no_skill, no_skill], linestyle='--', label='No Skill')\n",
    "pyplot.plot(lr_recall, lr_precision, marker='.', label='GaussianNB')\n",
    "# axis labels\n",
    "pyplot.xlabel('Recall')\n",
    "pyplot.ylabel('Precision')\n",
    "# show the legend\n",
    "pyplot.legend()\n",
    "# show the plot\n",
    "pyplot.show()"
   ]
  },
  {
   "cell_type": "code",
   "execution_count": 81,
   "metadata": {},
   "outputs": [
    {
     "name": "stdout",
     "output_type": "stream",
     "text": [
      "No Skill: ROC AUC=0.500\n",
      "GaussianNB: ROC AUC=0.729\n"
     ]
    },
    {
     "data": {
      "image/png": "[encoded data removed]",
      "text/plain": [
       "<Figure size 432x288 with 1 Axes>"
      ]
     },
     "metadata": {
      "needs_background": "light"
     },
     "output_type": "display_data"
    }
   ],
   "source": [
    "# now that classes are balanced, look at ROC curve\n",
    "from sklearn.metrics import roc_curve\n",
    "from sklearn.metrics import roc_auc_score\n",
    "from matplotlib import pyplot\n",
    "\n",
    "# generate a no skill prediction (majority class)\n",
    "ns_probs = [0 for _ in range(len(y_test))]\n",
    "# predict probabilities\n",
    "lr_probs = classifierObj.predict_proba(X_test)\n",
    "# keep probabilities for the positive outcome only\n",
    "lr_probs = lr_probs[:, 1]\n",
    "# calculate scores\n",
    "ns_auc = roc_auc_score(y_test, ns_probs)\n",
    "lr_auc = roc_auc_score(y_test, lr_probs)\n",
    "\n",
    "# summarize scores\n",
    "print('No Skill: ROC AUC=%.3f' % (ns_auc))\n",
    "print('GaussianNB: ROC AUC=%.3f' % (lr_auc))\n",
    "# calculate roc curves\n",
    "ns_fpr, ns_tpr, _ = roc_curve(y_test, ns_probs)\n",
    "lr_fpr, lr_tpr, _ = roc_curve(y_test, lr_probs)\n",
    "# plot the roc curve for the model\n",
    "pyplot.plot(ns_fpr, ns_tpr, linestyle='--', label='No Skill')\n",
    "pyplot.plot(lr_fpr, lr_tpr, marker='.', label='GaussianNB')\n",
    "# axis labels\n",
    "pyplot.xlabel('False Positive Rate')\n",
    "pyplot.ylabel('True Positive Rate')\n",
    "# show the legend\n",
    "pyplot.legend()\n",
    "# show the plot\n",
    "pyplot.show()"
   ]
  },
  {
   "cell_type": "code",
   "execution_count": null,
   "metadata": {},
   "outputs": [],
   "source": []
  }
 ],
 "metadata": {
  "kernelspec": {
   "display_name": "Python 3",
   "language": "python",
   "name": "python3"
  },
  "language_info": {
   "codemirror_mode": {
    "name": "ipython",
    "version": 3
   },
   "file_extension": ".py",
   "mimetype": "text/x-python",
   "name": "python",
   "nbconvert_exporter": "python",
   "pygments_lexer": "ipython3",
   "version": "3.7.1"
  }
 },
 "nbformat": 4,
 "nbformat_minor": 2
}
