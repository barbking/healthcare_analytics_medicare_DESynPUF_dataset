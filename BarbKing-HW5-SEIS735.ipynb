{
 "cells": [
  {
   "cell_type": "code",
   "execution_count": 123,
   "metadata": {},
   "outputs": [],
   "source": [
    "# import and read file, use NaN for elements with no values\n",
    "from pandas import DataFrame, read_csv\n",
    "import matplotlib.pyplot as plt\n",
    "import pandas as pd \n",
    "\n",
    "df = pd.read_csv(\"combined_inpatient.csv\", na_values = ['no info', '.'])\n",
    "#print(df.head(5))"
   ]
  },
  {
   "cell_type": "code",
   "execution_count": 10,
   "metadata": {},
   "outputs": [
    {
     "data": {
      "text/plain": [
       "(1332822, 81)"
      ]
     },
     "execution_count": 10,
     "metadata": {},
     "output_type": "execute_result"
    }
   ],
   "source": [
    "df.shape"
   ]
  },
  {
   "cell_type": "code",
   "execution_count": 83,
   "metadata": {},
   "outputs": [
    {
     "name": "stdout",
     "output_type": "stream",
     "text": [
      "        DESYNPUF_ID           CLM_ID  CLM_ADMSN_DT ADMTNG_ICD9_DGNS_CD  \\\n",
      "0  00013D2EFD8E45D1  196661176988405      20100312                4580   \n",
      "1  00016F745862898F  196201177000368      20090412                7866   \n",
      "2  00016F745862898F  196661177015632      20090831                6186   \n",
      "3  00016F745862898F  196091176981058      20090917               29590   \n",
      "4  00016F745862898F  196261176983265      20100626                5849   \n",
      "\n",
      "  ICD9_DGNS_CD_1 ICD9_DGNS_CD_2 ICD9_DGNS_CD_3 ICD9_DGNS_CD_4 ICD9_DGNS_CD_5  \\\n",
      "0           7802          78820          V4501           4280           2720   \n",
      "1           1970           4019           5853           7843           2768   \n",
      "2           6186           2948          56400            NaN            NaN   \n",
      "3          29623          30390          71690          34590          V1581   \n",
      "4           3569           4019           3542          V8801          78820   \n",
      "\n",
      "  ICD9_DGNS_CD_6 ICD9_DGNS_CD_7 ICD9_DGNS_CD_8 ICD9_DGNS_CD_9 ICD9_DGNS_CD_10  \n",
      "0           4019          V4502          73300          E9330             NaN  \n",
      "1          71590           2724          19889           5849             NaN  \n",
      "2            NaN            NaN            NaN            NaN             NaN  \n",
      "3          32723            NaN            NaN            NaN             NaN  \n",
      "4           2639           7840           7856           4271             NaN  \n"
     ]
    }
   ],
   "source": [
    "#subset of data needed to answer assignment question #4\n",
    "newdf = df[['DESYNPUF_ID','CLM_ID','CLM_ADMSN_DT','ADMTNG_ICD9_DGNS_CD','ICD9_DGNS_CD_1','ICD9_DGNS_CD_2','ICD9_DGNS_CD_3',\n",
    "            'ICD9_DGNS_CD_4','ICD9_DGNS_CD_5','ICD9_DGNS_CD_6','ICD9_DGNS_CD_7','ICD9_DGNS_CD_8','ICD9_DGNS_CD_9',\n",
    "             'ICD9_DGNS_CD_10']]\n",
    "print(newdf.head(5))"
   ]
  },
  {
   "cell_type": "code",
   "execution_count": 84,
   "metadata": {},
   "outputs": [
    {
     "data": {
      "text/plain": [
       "(1332822, 14)"
      ]
     },
     "execution_count": 84,
     "metadata": {},
     "output_type": "execute_result"
    }
   ],
   "source": [
    "newdf.shape"
   ]
  },
  {
   "cell_type": "code",
   "execution_count": 122,
   "metadata": {},
   "outputs": [],
   "source": [
    "# rename_df = newdf.rename(columns={'ADMTNG_ICD9_DGNS_CD':'ICD9_DGNS',\n",
    "#                       'ICD9_DGNS_CD_1':'ICD9_DGNS',\n",
    "#                      'ICD9_DGNS_CD_2':'ICD9_DGNS',\n",
    "#                      'ICD9_DGNS_CD_3':'ICD9_DGNS',\n",
    "#                      'ICD9_DGNS_CD_4':'ICD9_DGNS',\n",
    "#                      'ICD9_DGNS_CD_5':'ICD9_DGNS',\n",
    "#                      'ICD9_DGNS_CD_6':'ICD9_DGNS',\n",
    "#                      'ICD9_DGNS_CD_7':'ICD9_DGNS',\n",
    "#                      'ICD9_DGNS_CD_8':'ICD9_DGNS',\n",
    "#                      'ICD9_DGNS_CD_9':'ICD9_DGNS',\n",
    "#                     'ICD9_DGNS_CD_10': 'ICD9_DGNS' })\n",
    "#rename_df.shape\n",
    "#print(rename_df.head(5))"
   ]
  },
  {
   "cell_type": "code",
   "execution_count": 96,
   "metadata": {},
   "outputs": [
    {
     "name": "stdout",
     "output_type": "stream",
     "text": [
      "        DESYNPUF_ID           CLM_ID  CLM_ADMSN_DT ICD9_DGNS\n",
      "0  00013D2EFD8E45D1  196661176988405      20100312      4580\n",
      "1  00016F745862898F  196201177000368      20090412      7866\n",
      "2  00016F745862898F  196661177015632      20090831      6186\n",
      "3  00016F745862898F  196091176981058      20090917     29590\n",
      "4  00016F745862898F  196261176983265      20100626      5849\n"
     ]
    }
   ],
   "source": [
    "# rename column, need same col name to union all ICD9_DGNS columns into one column (inludes ADMTNG_ICD9_DGNS_CD)\n",
    "df1 = newdf[['DESYNPUF_ID','CLM_ID','CLM_ADMSN_DT','ADMTNG_ICD9_DGNS_CD']]\n",
    "df1 = df1.rename(columns={'ADMTNG_ICD9_DGNS_CD':'ICD9_DGNS'})\n",
    "df2 = newdf[['DESYNPUF_ID','CLM_ID','CLM_ADMSN_DT','ICD9_DGNS_CD_1']]\n",
    "df2 = df2.rename(columns={'ICD9_DGNS_CD_1':'ICD9_DGNS'})\n",
    "df3 = newdf[['DESYNPUF_ID','CLM_ID','CLM_ADMSN_DT','ICD9_DGNS_CD_2']]\n",
    "df3 = df3.rename(columns={'ICD9_DGNS_CD_2':'ICD9_DGNS'})\n",
    "df4 = newdf[['DESYNPUF_ID','CLM_ID','CLM_ADMSN_DT','ICD9_DGNS_CD_3']]\n",
    "df4 = df4.rename(columns={'ICD9_DGNS_CD_3':'ICD9_DGNS'})\n",
    "df5 = newdf[['DESYNPUF_ID','CLM_ID','CLM_ADMSN_DT','ICD9_DGNS_CD_4']]\n",
    "df5 = df5.rename(columns={'ICD9_DGNS_CD_4':'ICD9_DGNS'})\n",
    "df6 = newdf[['DESYNPUF_ID','CLM_ID','CLM_ADMSN_DT','ICD9_DGNS_CD_5']]\n",
    "df6 = df6.rename(columns={'ICD9_DGNS_CD_5':'ICD9_DGNS'})\n",
    "df7 = newdf[['DESYNPUF_ID','CLM_ID','CLM_ADMSN_DT','ICD9_DGNS_CD_6']]\n",
    "df7 = df7.rename(columns={'ICD9_DGNS_CD_6':'ICD9_DGNS'})\n",
    "df8 = newdf[['DESYNPUF_ID','CLM_ID','CLM_ADMSN_DT','ICD9_DGNS_CD_7']]\n",
    "df8 = df8.rename(columns={'ICD9_DGNS_CD_7':'ICD9_DGNS'})\n",
    "df9 = newdf[['DESYNPUF_ID','CLM_ID','CLM_ADMSN_DT','ICD9_DGNS_CD_8']]\n",
    "df9 = df9.rename(columns={'ICD9_DGNS_CD_8':'ICD9_DGNS'})\n",
    "df10 = newdf[['DESYNPUF_ID','CLM_ID','CLM_ADMSN_DT','ICD9_DGNS_CD_9']]\n",
    "df10 = df10.rename(columns={'ICD9_DGNS_CD_9':'ICD9_DGNS'})\n",
    "df11 = newdf[['DESYNPUF_ID','CLM_ID','CLM_ADMSN_DT','ICD9_DGNS_CD_10']]\n",
    "df11 = df11.rename(columns={'ICD9_DGNS_CD_10':'ICD9_DGNS'})\n",
    "# union all ICD9 codes\n",
    "df_union_all = pd.concat([df1, df2, df3, df4, df5, df6, df7, df8, df9, df10, df11])\n",
    "df_union_all.shape\n",
    "print(df_union_all.head(5))"
   ]
  },
  {
   "cell_type": "code",
   "execution_count": 100,
   "metadata": {},
   "outputs": [
    {
     "data": {
      "text/plain": [
       "(12055833, 4)"
      ]
     },
     "execution_count": 100,
     "metadata": {},
     "output_type": "execute_result"
    }
   ],
   "source": [
    "# drop all rows with ICD9_DGNS = NaN\n",
    "df_union_all = df_union_all.dropna()\n",
    "df_union_all.shape"
   ]
  },
  {
   "cell_type": "code",
   "execution_count": 104,
   "metadata": {},
   "outputs": [
    {
     "data": {
      "text/plain": [
       "(320641, 4)"
      ]
     },
     "execution_count": 104,
     "metadata": {},
     "output_type": "execute_result"
    }
   ],
   "source": [
    "# Select all duplicate rows based on multiple column names in list\n",
    "duplicateRowsDF = df_union_all[df_union_all.duplicated(subset=['DESYNPUF_ID','CLM_ADMSN_DT','ICD9_DGNS'])]\n",
    "duplicateRowsDF.shape"
   ]
  },
  {
   "cell_type": "code",
   "execution_count": 124,
   "metadata": {},
   "outputs": [],
   "source": [
    "df_no_duplicates = df_union_all.drop_duplicates(keep='first')"
   ]
  },
  {
   "cell_type": "code",
   "execution_count": 120,
   "metadata": {},
   "outputs": [
    {
     "data": {
      "text/html": [
       "<div>\n",
       "<style scoped>\n",
       "    .dataframe tbody tr th:only-of-type {\n",
       "        vertical-align: middle;\n",
       "    }\n",
       "\n",
       "    .dataframe tbody tr th {\n",
       "        vertical-align: top;\n",
       "    }\n",
       "\n",
       "    .dataframe thead th {\n",
       "        text-align: right;\n",
       "    }\n",
       "</style>\n",
       "<table border=\"1\" class=\"dataframe\">\n",
       "  <thead>\n",
       "    <tr style=\"text-align: right;\">\n",
       "      <th></th>\n",
       "      <th>COUNT</th>\n",
       "    </tr>\n",
       "    <tr>\n",
       "      <th>ICD9_DGNS</th>\n",
       "      <th></th>\n",
       "    </tr>\n",
       "  </thead>\n",
       "  <tbody>\n",
       "    <tr>\n",
       "      <th>4019</th>\n",
       "      <td>470068</td>\n",
       "    </tr>\n",
       "    <tr>\n",
       "      <th>25000</th>\n",
       "      <td>239222</td>\n",
       "    </tr>\n",
       "    <tr>\n",
       "      <th>2724</th>\n",
       "      <td>238056</td>\n",
       "    </tr>\n",
       "    <tr>\n",
       "      <th>4280</th>\n",
       "      <td>222349</td>\n",
       "    </tr>\n",
       "    <tr>\n",
       "      <th>41401</th>\n",
       "      <td>211488</td>\n",
       "    </tr>\n",
       "    <tr>\n",
       "      <th>42731</th>\n",
       "      <td>210238</td>\n",
       "    </tr>\n",
       "    <tr>\n",
       "      <th>5990</th>\n",
       "      <td>182573</td>\n",
       "    </tr>\n",
       "    <tr>\n",
       "      <th>53081</th>\n",
       "      <td>158117</td>\n",
       "    </tr>\n",
       "    <tr>\n",
       "      <th>486</th>\n",
       "      <td>143725</td>\n",
       "    </tr>\n",
       "    <tr>\n",
       "      <th>2449</th>\n",
       "      <td>139257</td>\n",
       "    </tr>\n",
       "  </tbody>\n",
       "</table>\n",
       "</div>"
      ],
      "text/plain": [
       "            COUNT\n",
       "ICD9_DGNS        \n",
       "4019       470068\n",
       "25000      239222\n",
       "2724       238056\n",
       "4280       222349\n",
       "41401      211488\n",
       "42731      210238\n",
       "5990       182573\n",
       "53081      158117\n",
       "486        143725\n",
       "2449       139257"
      ]
     },
     "execution_count": 120,
     "metadata": {},
     "output_type": "execute_result"
    }
   ],
   "source": [
    "df_no_duplicates.groupby('ICD9_DGNS').count()[['CLM_ID']].sort_values(by='CLM_ID',\n",
    "            ascending=False).rename(columns={'CLM_ID':'COUNT'}).head(10)"
   ]
  },
  {
   "cell_type": "code",
   "execution_count": null,
   "metadata": {},
   "outputs": [],
   "source": []
  }
 ],
 "metadata": {
  "kernelspec": {
   "display_name": "Python 3",
   "language": "python",
   "name": "python3"
  },
  "language_info": {
   "codemirror_mode": {
    "name": "ipython",
    "version": 3
   },
   "file_extension": ".py",
   "mimetype": "text/x-python",
   "name": "python",
   "nbconvert_exporter": "python",
   "pygments_lexer": "ipython3",
   "version": "3.7.1"
  }
 },
 "nbformat": 4,
 "nbformat_minor": 2
}
